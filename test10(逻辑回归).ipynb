{
 "cells": [
  {
   "cell_type": "code",
   "execution_count": 1,
   "id": "95fecc37-ce38-4460-815d-e38d854a5635",
   "metadata": {},
   "outputs": [
    {
     "name": "stdout",
     "output_type": "stream",
     "text": [
      "正确率是：              precision    recall  f1-score   support\n",
      "\n",
      "           0       0.74      0.21      0.33     50000\n",
      "           1       0.54      0.93      0.68     50000\n",
      "\n",
      "    accuracy                           0.57    100000\n",
      "   macro avg       0.64      0.57      0.50    100000\n",
      "weighted avg       0.64      0.57      0.50    100000\n",
      "\n"
     ]
    }
   ],
   "source": [
    "import numpy as np\n",
    "import pandas as pd\n",
    "from sklearn.feature_extraction.text import TfidfVectorizer #我们仍然使用TF-IDF\n",
    "from sklearn.linear_model import LogisticRegression\n",
    "from sklearn.metrics import classification_report #引入必要的库\n",
    "\n",
    "data=pd.read_csv('E:/作业/杂物/数据集/111_fixed.csv',encoding='ISO-8859-1')\n",
    "data = data.dropna(subset=['url', 'label'])\n",
    "data = data[data['url'].astype(str).str.strip() != '']\n",
    "x=data['url']\n",
    "y=data['label'] #加载数据\n",
    "vec=TfidfVectorizer() #创建向量器\n",
    "x_vec=vec.fit_transform(x) #转化x\n",
    "\n",
    "lg=LogisticRegression(penalty='l2',C=1.0, max_iter=1000) \n",
    "#这里是对每种权重进行约束防止频数多的被过分依赖至于这个l2和1.0这两个参数,一般都是这样设置为正常的。penalty='l2'表示使用 L2正则化，防止过拟合，迭代次数为1000次\n",
    "lg.fit(x_vec,y) #训练逻辑回归模型\n",
    "\n",
    "data2=pd.read_csv('E:/作业/杂物/数据集/balanced_test_set.csv', encoding='gb18030')\n",
    "x1=data2['url']\n",
    "y1=data2['label'] #读取测试数据\n",
    "x1_vec = vec.transform(x1) #测试数据也要使用相同向量器进行转化\n",
    "\n",
    "structured_scaled2 = scaler.transform(xx1) #不用再fit了！！！我们应当使用之前的规则\n",
    "structured_sparse2 = csr_matrix(structured_scaled2) #测试集数据也应该这样做\n",
    "x_final2 = hstack([x1_vec, structured_sparse2]) \n",
    "\n",
    "y_predict = lg.predict(x_final2) #得到预测结果\n",
    "\n",
    "report=classification_report(y1,y_predict) #判断准确度\n",
    "print(f\"正确率是：{report}\")"
   ]
  },
  {
   "cell_type": "code",
   "execution_count": 3,
   "id": "bd964c53-298e-4950-a509-8140e8e78a84",
   "metadata": {},
   "outputs": [
    {
     "name": "stdout",
     "output_type": "stream",
     "text": [
      "✅ 已生成 balanced_test_set.csv，共 100000 条样本（每类 50000 条）\n"
     ]
    }
   ],
   "source": [
    "import pandas as pd\n",
    "\n",
    "# 步骤 1：读取恶意数据\n",
    "malicious_df = pd.read_csv(\"E:/作业/杂物/数据集/archive/merged_shuffled_dataset222.csv\")\n",
    "malicious_count = sum(malicious_df['label'] == 1)\n",
    "\n",
    "# 步骤 2：读取前5万条正常数据（你可以调大 nrows 尝试读取更多）\n",
    "benign_df = pd.read_csv(\"E:/作业/杂物/数据集/benign_urls_cleaned.csv\", nrows=50000)\n",
    "\n",
    "# 步骤 3：取两者能拼接的最大数量\n",
    "usable_count = min(len(benign_df), malicious_count)\n",
    "\n",
    "# 步骤 4：采样正常数据\n",
    "benign_sample = benign_df.sample(n=usable_count, random_state=42)\n",
    "benign_sample['label'] = 0  # 添加标签\n",
    "\n",
    "# 只保留同样数量的恶意样本\n",
    "malicious_sample = malicious_df[malicious_df['label'] == 1].sample(n=usable_count, random_state=42)\n",
    "\n",
    "# 步骤 5：拼接、打乱、保存\n",
    "balanced_test_set = pd.concat([benign_sample, malicious_sample], ignore_index=True)\n",
    "balanced_test_set = balanced_test_set.sample(frac=1, random_state=42).reset_index(drop=True)\n",
    "balanced_test_set.to_csv(\"E:/作业/杂物/数据集/balanced_test_set.csv\", index=False)\n",
    "\n",
    "print(f\"✅ 已生成 balanced_test_set.csv，共 {usable_count*2} 条样本（每类 {usable_count} 条）\")\n"
   ]
  },
  {
   "cell_type": "code",
   "execution_count": null,
   "id": "4c153aaf-640c-4bec-b1b0-b8234ee3615f",
   "metadata": {},
   "outputs": [],
   "source": []
  }
 ],
 "metadata": {
  "kernelspec": {
   "display_name": "Python 3 (ipykernel)",
   "language": "python",
   "name": "python3"
  },
  "language_info": {
   "codemirror_mode": {
    "name": "ipython",
    "version": 3
   },
   "file_extension": ".py",
   "mimetype": "text/x-python",
   "name": "python",
   "nbconvert_exporter": "python",
   "pygments_lexer": "ipython3",
   "version": "3.12.7"
  }
 },
 "nbformat": 4,
 "nbformat_minor": 5
}
