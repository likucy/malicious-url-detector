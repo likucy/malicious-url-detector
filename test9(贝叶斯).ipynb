{
 "cells": [
  {
   "cell_type": "code",
   "execution_count": 7,
   "id": "e43ebffd-e160-4e4c-a065-ebab300c3756",
   "metadata": {},
   "outputs": [
    {
     "name": "stdout",
     "output_type": "stream",
     "text": [
      "正确率是：              precision    recall  f1-score   support\n",
      "\n",
      "           0       0.91      0.68      0.77     50000\n",
      "           1       0.74      0.93      0.83     50000\n",
      "\n",
      "    accuracy                           0.80    100000\n",
      "   macro avg       0.82      0.80      0.80    100000\n",
      "weighted avg       0.82      0.80      0.80    100000\n",
      "\n"
     ]
    }
   ],
   "source": [
    "import numpy as np\n",
    "import pandas as pd\n",
    "import re\n",
    "from sklearn.feature_extraction.text import TfidfVectorizer #我们使用TF-IDF\n",
    "from sklearn.naive_bayes import MultinomialNB\n",
    "from sklearn.metrics import classification_report \n",
    "from sklearn.preprocessing import MinMaxScaler\n",
    "from scipy.sparse import hstack, csr_matrix #引入必要的库\n",
    "\n",
    "def extract_features(url): #结构化特征，优化使用\n",
    "    features = {} #创建空字典\n",
    "    url = str(url) #确保url都是字符串\n",
    "    features['url_length'] = len(url) # 看长度\n",
    "    features['count_dots'] = url.count('.') #看点的数量\n",
    "    features['count_hyphens'] = url.count('-') #看横杠的数量\n",
    "    suspicious_keywords = ['login', 'secure', 'account', 'verify', 'password', 'update', 'banking'] #看敏感词在恶意网站中的敏感词\n",
    "    features['count_suspicious_words'] = sum( #这里是数组的原因是我们的url不止一个\n",
    "        1 for kw in suspicious_keywords if kw in url.lower()\n",
    "    ) #遍历一遍看有多少敏感词，统计出来个数2\n",
    "    return features\n",
    "\n",
    "data=pd.read_csv('E:/作业/杂物/数据集/111_fixed.csv',encoding='ISO-8859-1')\n",
    "data = data.dropna(subset=['url', 'label'])\n",
    "data = data[data['url'].astype(str).str.strip() != ''] #数据清洗\n",
    "x=data['url']\n",
    "y=data['label'] #加载数据\n",
    "xx = pd.DataFrame([extract_features(u) for u in x])\n",
    "vec=TfidfVectorizer() #创建向量器\n",
    "x_vec=vec.fit_transform(x) #转化x\n",
    "\n",
    "scaler = MinMaxScaler()\n",
    "structured_train_scaled = scaler.fit_transform(xx) #防止数据特征本身太大或太小太影响结果判断转换成介于(0,1)\n",
    "structured_train_sparse = csr_matrix(structured_train_scaled) #转换成稀疏矩阵进行拼接因为前面 x_vec（TF-IDF 特征）就是稀疏矩阵必须跟它格式一样才能拼接！\n",
    "x_final = hstack([x_vec, structured_train_sparse]) #合并数据将特征和数据本身进行合并变成一个\n",
    "\n",
    "bys=MultinomialNB()\n",
    "bys.fit(x_final,y) #训练贝叶斯模型\n",
    "\n",
    "data2=pd.read_csv('E:/作业/杂物/数据集/balanced_test_set.csv', encoding='gb18030')\n",
    "x1=data2['url']\n",
    "y1=data2['label'] #读取测试数据\n",
    "xx1 = pd.DataFrame([extract_features(u) for u in x1])\n",
    "x1_vec = vec.transform(x1) #测试数据也要使用相同向量器进行转化\n",
    "\n",
    "structured_scaled2 = scaler.transform(xx1) #不用再fit了！！！我们应当使用之前的规则\n",
    "structured_sparse2 = csr_matrix(structured_scaled2) #测试集数据也应该这样做\n",
    "x_final2 = hstack([x1_vec, structured_sparse2]) \n",
    "\n",
    "y_predict = bys.predict(x_final2) #得到预测结果\n",
    "\n",
    "report=classification_report(y1,y_predict) #判断准确度\n",
    "print(f\"正确率是：{report}\")"
   ]
  },
  {
   "cell_type": "code",
   "execution_count": null,
   "id": "7e10657d-bb62-446a-8d73-d2e475754f76",
   "metadata": {},
   "outputs": [],
   "source": []
  }
 ],
 "metadata": {
  "kernelspec": {
   "display_name": "Python 3 (ipykernel)",
   "language": "python",
   "name": "python3"
  },
  "language_info": {
   "codemirror_mode": {
    "name": "ipython",
    "version": 3
   },
   "file_extension": ".py",
   "mimetype": "text/x-python",
   "name": "python",
   "nbconvert_exporter": "python",
   "pygments_lexer": "ipython3",
   "version": "3.12.7"
  }
 },
 "nbformat": 4,
 "nbformat_minor": 5
}
