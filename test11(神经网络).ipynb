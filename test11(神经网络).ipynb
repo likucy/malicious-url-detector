{
 "cells": [
  {
   "cell_type": "code",
   "execution_count": 4,
   "id": "70798d31-01e8-41ed-b41f-c4e4ac4409d2",
   "metadata": {},
   "outputs": [
    {
     "name": "stdout",
     "output_type": "stream",
     "text": [
      "类别权重： {0: 0.9999958333333333, 1: 1.0000041667013893}\n"
     ]
    },
    {
     "name": "stderr",
     "output_type": "stream",
     "text": [
      "C:\\Users\\李凯航\\AppData\\Roaming\\Python\\Python312\\site-packages\\keras\\src\\layers\\core\\dense.py:87: UserWarning: Do not pass an `input_shape`/`input_dim` argument to a layer. When using Sequential models, prefer using an `Input(shape)` object as the first layer in the model instead.\n",
      "  super().__init__(activity_regularizer=activity_regularizer, **kwargs)\n"
     ]
    },
    {
     "name": "stdout",
     "output_type": "stream",
     "text": [
      "Epoch 1/5\n",
      "\u001b[1m1875/1875\u001b[0m \u001b[32m━━━━━━━━━━━━━━━━━━━━\u001b[0m\u001b[37m\u001b[0m \u001b[1m152s\u001b[0m 81ms/step - accuracy: 0.8958 - loss: 0.2732\n",
      "Epoch 2/5\n",
      "\u001b[1m1875/1875\u001b[0m \u001b[32m━━━━━━━━━━━━━━━━━━━━\u001b[0m\u001b[37m\u001b[0m \u001b[1m149s\u001b[0m 80ms/step - accuracy: 0.9859 - loss: 0.0391\n",
      "Epoch 3/5\n",
      "\u001b[1m1875/1875\u001b[0m \u001b[32m━━━━━━━━━━━━━━━━━━━━\u001b[0m\u001b[37m\u001b[0m \u001b[1m149s\u001b[0m 79ms/step - accuracy: 0.9931 - loss: 0.0163\n",
      "Epoch 4/5\n",
      "\u001b[1m1875/1875\u001b[0m \u001b[32m━━━━━━━━━━━━━━━━━━━━\u001b[0m\u001b[37m\u001b[0m \u001b[1m148s\u001b[0m 79ms/step - accuracy: 0.9943 - loss: 0.0110\n",
      "Epoch 5/5\n",
      "\u001b[1m1875/1875\u001b[0m \u001b[32m━━━━━━━━━━━━━━━━━━━━\u001b[0m\u001b[37m\u001b[0m \u001b[1m148s\u001b[0m 79ms/step - accuracy: 0.9949 - loss: 0.0088\n",
      "\u001b[1m3125/3125\u001b[0m \u001b[32m━━━━━━━━━━━━━━━━━━━━\u001b[0m\u001b[37m\u001b[0m \u001b[1m30s\u001b[0m 9ms/step\n",
      "正确率是：              precision    recall  f1-score   support\n",
      "\n",
      "           0       0.94      0.61      0.74     50000\n",
      "           1       0.71      0.96      0.82     50000\n",
      "\n",
      "    accuracy                           0.79    100000\n",
      "   macro avg       0.82      0.79      0.78    100000\n",
      "weighted avg       0.82      0.79      0.78    100000\n",
      "\n"
     ]
    },
    {
     "name": "stderr",
     "output_type": "stream",
     "text": [
      "E:\\app\\anaconda\\anaconda-con\\Lib\\site-packages\\IPython\\core\\pylabtools.py:170: UserWarning: Glyph 28151 (\\N{CJK UNIFIED IDEOGRAPH-6DF7}) missing from font(s) DejaVu Sans.\n",
      "  fig.canvas.print_figure(bytes_io, **kw)\n",
      "E:\\app\\anaconda\\anaconda-con\\Lib\\site-packages\\IPython\\core\\pylabtools.py:170: UserWarning: Glyph 28102 (\\N{CJK UNIFIED IDEOGRAPH-6DC6}) missing from font(s) DejaVu Sans.\n",
      "  fig.canvas.print_figure(bytes_io, **kw)\n",
      "E:\\app\\anaconda\\anaconda-con\\Lib\\site-packages\\IPython\\core\\pylabtools.py:170: UserWarning: Glyph 30697 (\\N{CJK UNIFIED IDEOGRAPH-77E9}) missing from font(s) DejaVu Sans.\n",
      "  fig.canvas.print_figure(bytes_io, **kw)\n",
      "E:\\app\\anaconda\\anaconda-con\\Lib\\site-packages\\IPython\\core\\pylabtools.py:170: UserWarning: Glyph 38453 (\\N{CJK UNIFIED IDEOGRAPH-9635}) missing from font(s) DejaVu Sans.\n",
      "  fig.canvas.print_figure(bytes_io, **kw)\n"
     ]
    },
    {
     "data": {
      "image/png": "[encoded data removed]",
      "text/plain": [
       "<Figure size 640x480 with 2 Axes>"
      ]
     },
     "metadata": {},
     "output_type": "display_data"
    }
   ],
   "source": [
    "import pandas as pd\n",
    "import numpy as np\n",
    "from sklearn.utils import class_weight\n",
    "from sklearn.feature_extraction.text import TfidfVectorizer\n",
    "from tensorflow.keras.models import Sequential\n",
    "from tensorflow.keras.layers import Dense\n",
    "from sklearn.metrics import classification_report\n",
    "from sklearn.model_selection import train_test_split\n",
    "from sklearn.preprocessing import MinMaxScaler\n",
    "from scipy.sparse import hstack, csr_matrix\n",
    "\n",
    "def extract_features(url): #结构化特征，优化使用\n",
    "    features = {} #创建空字典\n",
    "    url = str(url) #确保url都是字符串\n",
    "    features['url_length'] = len(url) # 看长度\n",
    "    features['count_dots'] = url.count('.') #看点的数量\n",
    "    features['count_hyphens'] = url.count('-') #看横杠的数量\n",
    "    suspicious_keywords = ['login', 'secure', 'account', 'verify', 'password', 'update', 'banking'] #看敏感词在恶意网站中的敏感词\n",
    "    features['count_suspicious_words'] = sum( #这里是数组的原因是我们的url不止一个\n",
    "        1 for kw in suspicious_keywords if kw in url.lower()\n",
    "    ) #遍历一遍看有多少敏感词，统计出来个数2\n",
    "    return features\n",
    "\n",
    "data=pd.read_csv('E:/作业/杂物/数据集/111_fixed.csv',encoding='ISO-8859-1')\n",
    "data = data.dropna(subset=['url', 'label'])\n",
    "data = data[data['url'].astype(str).str.strip() != '']\n",
    "x=data['url']\n",
    "y=data['label'] #加载数据\n",
    "xx = pd.DataFrame([extract_features(u) for u in x])\n",
    "vec=TfidfVectorizer() #创建向量器\n",
    "x_vec=vec.fit_transform(x) #转化x\n",
    "y_np = np.array(y)\n",
    "weights = class_weight.compute_class_weight(class_weight='balanced',classes=np.unique(y_np),y=y_np)\n",
    "class_weights = {i: weights[i] for i in range(len(weights))}\n",
    "print(\"类别权重：\", class_weights)#计算权重解决模型宁可错杀绝不放过的特征\n",
    "scaler = MinMaxScaler()\n",
    "structured_train_scaled = scaler.fit_transform(xx) #防止数据特征本身太大或太小太影响结果判断转换成介于(0,1)\n",
    "structured_train_sparse = csr_matrix(structured_train_scaled) #转换成稀疏矩阵进行拼接因为前面 x_vec（TF-IDF 特征）就是稀疏矩阵必须跟它格式一样才能拼接！\n",
    "x_final = hstack([x_vec, structured_train_sparse]) #合并数据将特征和数据本身进行合并变成一个\n",
    "\n",
    "sq=Sequential()\n",
    "sq.add(Dense(64,input_dim=x_final.shape[1],activation='relu'))\n",
    "sq.add(Dense(32,activation='relu'))\n",
    "sq.add(Dense(1,activation='sigmoid'))\n",
    "\n",
    "sq.compile(optimizer='adam',loss='binary_crossentropy',metrics=['accuracy'])\n",
    "sq.fit(x_final,y,epochs=5,batch_size=128,class_weight=class_weights)\n",
    "\n",
    "data2=pd.read_csv('E:/作业/杂物/数据集/balanced_test_set.csv', encoding='gb18030')\n",
    "x1=data2['url']\n",
    "y1=data2['label'] #读取测试数据\n",
    "xx1 = pd.DataFrame([extract_features(u) for u in x1])\n",
    "x1_vec = vec.transform(x1) #测试数据也要使用相同向量器进行转化\n",
    "\n",
    "structured_scaled2 = scaler.transform(xx1) #不用再fit了！！！我们应当使用之前的规则\n",
    "structured_sparse2 = csr_matrix(structured_scaled2) #测试集数据也应该这样做\n",
    "x_final2 = hstack([x1_vec, structured_sparse2]) \n",
    "\n",
    "y_predict = sq.predict(x_final2) #得到预测结果\n",
    "y_predict = (y_predict > 0.5).astype(int)  # 概率转标签\n",
    "\n",
    "report=classification_report(y1.values,y_predict) #判断准确度\n",
    "print(f\"正确率是：{report}\")"
   ]
  },
  {
   "cell_type": "code",
   "execution_count": null,
   "id": "7539c7ee-8867-4773-a876-432492f25c6b",
   "metadata": {},
   "outputs": [],
   "source": []
  }
 ],
 "metadata": {
  "kernelspec": {
   "display_name": "Python 3 (ipykernel)",
   "language": "python",
   "name": "python3"
  },
  "language_info": {
   "codemirror_mode": {
    "name": "ipython",
    "version": 3
   },
   "file_extension": ".py",
   "mimetype": "text/x-python",
   "name": "python",
   "nbconvert_exporter": "python",
   "pygments_lexer": "ipython3",
   "version": "3.12.7"
  }
 },
 "nbformat": 4,
 "nbformat_minor": 5
}
