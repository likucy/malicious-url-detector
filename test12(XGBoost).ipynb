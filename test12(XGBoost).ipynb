{
 "cells": [
  {
   "cell_type": "code",
   "execution_count": 7,
   "id": "6c6d8a9c-f0f5-415a-a548-2f6a4a5835f6",
   "metadata": {},
   "outputs": [
    {
     "name": "stdout",
     "output_type": "stream",
     "text": [
      "类别权重： {0: 0.9999958333333333, 1: 1.0000041667013893}\n"
     ]
    },
    {
     "name": "stderr",
     "output_type": "stream",
     "text": [
      "C:\\Users\\李凯航\\AppData\\Roaming\\Python\\Python312\\site-packages\\xgboost\\training.py:183: UserWarning: [14:29:48] WARNING: C:\\actions-runner\\_work\\xgboost\\xgboost\\src\\learner.cc:738: \n",
      "Parameters: { \"use_label_encoder\" } are not used.\n",
      "\n",
      "  bst.update(dtrain, iteration=i, fobj=obj)\n"
     ]
    },
    {
     "name": "stdout",
     "output_type": "stream",
     "text": [
      "              precision    recall  f1-score   support\n",
      "\n",
      "           0       0.84      0.93      0.88     50000\n",
      "           1       0.92      0.82      0.87     50000\n",
      "\n",
      "    accuracy                           0.87    100000\n",
      "   macro avg       0.88      0.87      0.87    100000\n",
      "weighted avg       0.88      0.87      0.87    100000\n",
      "\n"
     ]
    },
    {
     "name": "stderr",
     "output_type": "stream",
     "text": [
      "E:\\app\\anaconda\\anaconda-con\\Lib\\site-packages\\IPython\\core\\pylabtools.py:170: UserWarning: Glyph 28151 (\\N{CJK UNIFIED IDEOGRAPH-6DF7}) missing from font(s) DejaVu Sans.\n",
      "  fig.canvas.print_figure(bytes_io, **kw)\n",
      "E:\\app\\anaconda\\anaconda-con\\Lib\\site-packages\\IPython\\core\\pylabtools.py:170: UserWarning: Glyph 28102 (\\N{CJK UNIFIED IDEOGRAPH-6DC6}) missing from font(s) DejaVu Sans.\n",
      "  fig.canvas.print_figure(bytes_io, **kw)\n",
      "E:\\app\\anaconda\\anaconda-con\\Lib\\site-packages\\IPython\\core\\pylabtools.py:170: UserWarning: Glyph 30697 (\\N{CJK UNIFIED IDEOGRAPH-77E9}) missing from font(s) DejaVu Sans.\n",
      "  fig.canvas.print_figure(bytes_io, **kw)\n",
      "E:\\app\\anaconda\\anaconda-con\\Lib\\site-packages\\IPython\\core\\pylabtools.py:170: UserWarning: Glyph 38453 (\\N{CJK UNIFIED IDEOGRAPH-9635}) missing from font(s) DejaVu Sans.\n",
      "  fig.canvas.print_figure(bytes_io, **kw)\n"
     ]
    },
    {
     "data": {
      "image/png": "[encoded data removed]",
      "text/plain": [
       "<Figure size 640x480 with 2 Axes>"
      ]
     },
     "metadata": {},
     "output_type": "display_data"
    }
   ],
   "source": [
    "import pandas as pd\n",
    "import numpy as np\n",
    "from sklearn.utils import class_weight\n",
    "from sklearn.feature_extraction.text import TfidfVectorizer\n",
    "import xgboost as xgb\n",
    "from sklearn.metrics import classification_report,confusion_matrix\n",
    "import matplotlib.pyplot as plt\n",
    "import seaborn as sns\n",
    "from sklearn.preprocessing import MinMaxScaler\n",
    "from scipy.sparse import hstack, csr_matrix\n",
    "\n",
    "def extract_features(url): #结构化特征，优化使用\n",
    "    features = {} #创建空字典\n",
    "    url = str(url) #确保url都是字符串\n",
    "    features['url_length'] = len(url) # 看长度\n",
    "    features['count_dots'] = url.count('.') #看点的数量\n",
    "    features['count_hyphens'] = url.count('-') #看横杠的数量\n",
    "    suspicious_keywords = ['login', 'secure', 'account', 'verify', 'password', 'update', 'banking'] #看敏感词在恶意网站中的敏感词\n",
    "    features['count_suspicious_words'] = sum( #这里是数组的原因是我们的url不止一个\n",
    "        1 for kw in suspicious_keywords if kw in url.lower()\n",
    "    ) #遍历一遍看有多少敏感词，统计出来个数2\n",
    "    return features\n",
    "\n",
    "data=pd.read_csv('E:/作业/杂物/数据集/111_fixed.csv',encoding='ISO-8859-1')\n",
    "data = data.dropna(subset=['url', 'label'])\n",
    "data = data[data['url'].astype(str).str.strip() != '']\n",
    "x=data['url']\n",
    "y=data['label'] #加载数据\n",
    "xx = pd.DataFrame([extract_features(u) for u in x])\n",
    "vec=TfidfVectorizer() #创建向量器\n",
    "x_vec=vec.fit_transform(x) #转化x\n",
    "y_np = np.array(y)\n",
    "weights = class_weight.compute_class_weight(class_weight='balanced',classes=np.unique(y_np),y=y_np)\n",
    "class_weights = {i: weights[i] for i in range(len(weights))}\n",
    "print(\"类别权重：\", class_weights)#计算权重解决模型宁可错杀绝不放过的特征\n",
    "scaler = MinMaxScaler()\n",
    "structured_train_scaled = scaler.fit_transform(xx) #防止数据特征本身太大或太小太影响结果判断转换成介于(0,1)\n",
    "structured_train_sparse = csr_matrix(structured_train_scaled) #转换成稀疏矩阵进行拼接因为前面 x_vec（TF-IDF 特征）就是稀疏矩阵必须跟它格式一样才能拼接！\n",
    "x_final = hstack([x_vec, structured_train_sparse]) #合并数据将特征和数据本身进行合并变成一个\n",
    "dtrain = xgb.DMatrix(x_final, label=y_np) \n",
    "\n",
    "params={\n",
    "    'objective':'binary:logistic', #目标函数，我们明显是二分类用 binary:logistic\n",
    "    'eval_metric':'logloss', #评估指标，这里用 logloss\n",
    "    'eta': 0.05, #学习率，值越小越稳越慢默认0.1\n",
    "    'max_depth': 8, #每棵树的深度，越深越复杂一般4-6复杂可到8\n",
    "    'subsample': 1.0, #样本采样比例，防止过拟合\n",
    "    'colsample_bytree': 0.8, #特征采样比例\n",
    "    'scale_pos_weight': weights[1] / weights[0],  # 用之前计算出来的类别权重等于是正常样本/恶意样本\n",
    "    'use_label_encoder': False, #用于类别不平衡调整，越接近真实比例越好\n",
    "}  #不是特别理解好像就是不同的参数,感觉很难记住\n",
    "\n",
    "bst = xgb.train(params, dtrain, num_boost_round=100)\n",
    "\n",
    "data2=pd.read_csv('E:/作业/杂物/数据集/balanced_test_set.csv', encoding='gb18030')\n",
    "x1=data2['url']\n",
    "y1=data2['label'] #读取测试数据\n",
    "xx1 = pd.DataFrame([extract_features(u) for u in x1])\n",
    "x1_vec = vec.transform(x1) #测试数据也要使用相同向量器进行转化\n",
    "\n",
    "structured_scaled2 = scaler.transform(xx1) #不用再fit了！！！我们应当使用之前的规则\n",
    "structured_sparse2 = csr_matrix(structured_scaled2) #测试集数据也应该这样做\n",
    "x_final2 = hstack([x1_vec, structured_sparse2]) \n",
    "\n",
    "dtest = xgb.DMatrix(x_final2)\n",
    "y_pred_prob = bst.predict(dtest)\n",
    "y_pred = (y_pred_prob > 0.5).astype(int)\n",
    "\n",
    "print(classification_report(y1.values, y_pred))\n",
    "\n",
    "cm = confusion_matrix(y1.values, y_pred) #可视化直观方便\n",
    "sns.heatmap(cm, annot=True, fmt='d', cmap='Blues')\n",
    "plt.xlabel('Predicted')\n",
    "plt.ylabel('True')\n",
    "plt.title('混淆矩阵')\n",
    "plt.show()"
   ]
  },
  {
   "cell_type": "code",
   "execution_count": null,
   "id": "df11946a-2acb-4432-ab67-3ad8289c30f1",
   "metadata": {},
   "outputs": [],
   "source": []
  }
 ],
 "metadata": {
  "kernelspec": {
   "display_name": "Python 3 (ipykernel)",
   "language": "python",
   "name": "python3"
  },
  "language_info": {
   "codemirror_mode": {
    "name": "ipython",
    "version": 3
   },
   "file_extension": ".py",
   "mimetype": "text/x-python",
   "name": "python",
   "nbconvert_exporter": "python",
   "pygments_lexer": "ipython3",
   "version": "3.12.7"
  }
 },
 "nbformat": 4,
 "nbformat_minor": 5
}
